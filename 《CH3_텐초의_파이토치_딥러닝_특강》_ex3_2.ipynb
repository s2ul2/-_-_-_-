{
  "nbformat": 4,
  "nbformat_minor": 0,
  "metadata": {
    "colab": {
      "provenance": [],
      "collapsed_sections": [],
      "include_colab_link": true
    },
    "kernelspec": {
      "name": "python3",
      "display_name": "Python 3"
    },
    "language_info": {
      "name": "python"
    }
  },
  "cells": [
    {
      "cell_type": "markdown",
      "metadata": {
        "id": "view-in-github",
        "colab_type": "text"
      },
      "source": [
        "<a href=\"https://colab.research.google.com/github/s2ul2/book_tenchor-s_Pytorch_DL/blob/main/%E3%80%8ACH3_%ED%85%90%EC%B4%88%EC%9D%98_%ED%8C%8C%EC%9D%B4%ED%86%A0%EC%B9%98_%EB%94%A5%EB%9F%AC%EB%8B%9D_%ED%8A%B9%EA%B0%95%E3%80%8B_ex3_2.ipynb\" target=\"_parent\"><img src=\"https://colab.research.google.com/assets/colab-badge.svg\" alt=\"Open In Colab\"/></a>"
      ]
    },
    {
      "cell_type": "markdown",
      "source": [
        "보스턴 데이터셋의 특징 출력"
      ],
      "metadata": {
        "id": "9MMYkhu2jFCV"
      }
    },
    {
      "cell_type": "code",
      "source": [
        "from sklearn.datasets import load_boston\n",
        "\n",
        "# 경고 무시\n",
        "import warnings\n",
        "warnings.filterwarnings('ignore')\n",
        "\n",
        "dataset = load_boston() # 데이터셋을 불러옴\n",
        "print(dataset.keys())   # 데이터셋의 키(요소들의 이름)를 출력"
      ],
      "metadata": {
        "colab": {
          "base_uri": "https://localhost:8080/"
        },
        "id": "HvINItE3jKac",
        "outputId": "fae0d0d9-2ea3-4fe8-eadc-533620f574a6"
      },
      "execution_count": null,
      "outputs": [
        {
          "output_type": "stream",
          "name": "stdout",
          "text": [
            "dict_keys(['data', 'target', 'feature_names', 'DESCR', 'filename', 'data_module'])\n"
          ]
        }
      ]
    },
    {
      "cell_type": "markdown",
      "source": [
        "# 데이터의 구성요소 확인"
      ],
      "metadata": {
        "id": "YTX7aBnO5h71"
      }
    },
    {
      "cell_type": "code",
      "source": [
        "import pandas as pd\n",
        "\n",
        "from sklearn.datasets import load_boston\n",
        "\n",
        "dataset = load_boston()\n",
        "dataFrame = pd.DataFrame(dataset[\"data\"]) # ❶ 데이터셋의 데이터 불러오기\n",
        "dataFrame.columns = dataset[\"feature_names\"] # ❷ 특징의 이름 불러오기\n",
        "dataFrame[\"target\"] = dataset[\"target\"] # ❸ 데이터 프레임에 정답을 추가\n",
        "\n",
        "print(dataFrame.head()) # ➍ 데이터프레임을 요약해서 출력"
      ],
      "metadata": {
        "id": "JD50UWMYjMeR",
        "colab": {
          "base_uri": "https://localhost:8080/"
        },
        "outputId": "bca557c2-205b-4b55-fe42-85ac6c049674"
      },
      "execution_count": null,
      "outputs": [
        {
          "output_type": "stream",
          "name": "stdout",
          "text": [
            "      CRIM    ZN  INDUS  CHAS    NOX     RM   AGE     DIS  RAD    TAX  \\\n",
            "0  0.00632  18.0   2.31   0.0  0.538  6.575  65.2  4.0900  1.0  296.0   \n",
            "1  0.02731   0.0   7.07   0.0  0.469  6.421  78.9  4.9671  2.0  242.0   \n",
            "2  0.02729   0.0   7.07   0.0  0.469  7.185  61.1  4.9671  2.0  242.0   \n",
            "3  0.03237   0.0   2.18   0.0  0.458  6.998  45.8  6.0622  3.0  222.0   \n",
            "4  0.06905   0.0   2.18   0.0  0.458  7.147  54.2  6.0622  3.0  222.0   \n",
            "\n",
            "   PTRATIO       B  LSTAT  target  \n",
            "0     15.3  396.90   4.98    24.0  \n",
            "1     17.8  396.90   9.14    21.6  \n",
            "2     17.8  392.83   4.03    34.7  \n",
            "3     18.7  394.63   2.94    33.4  \n",
            "4     18.7  396.90   5.33    36.2  \n"
          ]
        }
      ]
    },
    {
      "cell_type": "markdown",
      "source": [
        "# 선형회귀를 위한 MLP모델의 설계"
      ],
      "metadata": {
        "id": "8eDsBBv25txN"
      }
    },
    {
      "cell_type": "code",
      "source": [
        "import torch\n",
        "import torch.nn as nn\n",
        "\n",
        "from torch.optim.adam import Adam\n",
        "\n",
        "\n",
        "# ❶ 모델 정의\n",
        "model = nn.Sequential(\n",
        "   nn.Linear(13, 100),\n",
        "   nn.ReLU(),\n",
        "   nn.Linear(100, 1)\n",
        ")\n",
        "\n",
        "X = dataFrame.iloc[:, :13].values # ❷ 정답을 제외한 특징을 X에 입력\n",
        "Y = dataFrame[\"target\"].values    # 데이터프레임의 target의 값을 추출\n",
        "\n",
        "batch_size = 100\n",
        "learning_rate = 0.001\n",
        "\n",
        "# ❸ 가중치를 수정하기 위한 최적화 정의\n",
        "optim = Adam(model.parameters(), lr=learning_rate)\n",
        "\n",
        "\n",
        "# 에포크 반복\n",
        "for epoch in range(200):\n",
        "\n",
        "   # 배치 반복\n",
        "   for i in range(len(X)//batch_size):\n",
        "       start = i*batch_size      # ➍ 배치 크기에 맞게 인덱스를 지정\n",
        "       end = start + batch_size\n",
        "\n",
        "\n",
        "       # 파이토치 실수형 텐서로 변환\n",
        "       x = torch.FloatTensor(X[start:end])\n",
        "       y = torch.FloatTensor(Y[start:end])\n",
        "\n",
        "       optim.zero_grad() # ❺ 가중치의 기울기를 0으로 초기화\n",
        "       preds = model(x)  # ❻ 모델의 예측값 계산\n",
        "       loss = nn.MSELoss()(preds, y) # ❼ MSE 손실 계산\n",
        "       loss.backward() # 오차 역전파 : 7에서 계산한 오차를 역전파. 이 과정에서 모든 가중치에 대한 기울기 계산\n",
        "       optim.step() # 최적화 진행 : 8에서 역전파된 기울기를 이용해 최적화 진행. 얼마만큼 가중치를 수정할지 결정함.\n",
        "   if epoch % 20 == 0:\n",
        "       print(f\"epoch{epoch} loss:{loss.item()}\")"
      ],
      "metadata": {
        "colab": {
          "base_uri": "https://localhost:8080/"
        },
        "id": "lMR8ZUMgGMtx",
        "outputId": "75022993-1cf1-4bec-b405-8ffdfb8897d8"
      },
      "execution_count": null,
      "outputs": [
        {
          "output_type": "stream",
          "name": "stdout",
          "text": [
            "epoch0 loss:63.797157287597656\n",
            "epoch20 loss:45.051475524902344\n",
            "epoch40 loss:40.557090759277344\n",
            "epoch60 loss:39.79398727416992\n",
            "epoch80 loss:39.45023727416992\n",
            "epoch100 loss:39.383544921875\n",
            "epoch120 loss:39.04169845581055\n",
            "epoch140 loss:38.85562515258789\n",
            "epoch160 loss:38.72293472290039\n",
            "epoch180 loss:38.49763488769531\n"
          ]
        }
      ]
    },
    {
      "cell_type": "markdown",
      "source": [
        "# 모델 성능 평가"
      ],
      "metadata": {
        "id": "t7AwM6xv555d"
      }
    },
    {
      "cell_type": "code",
      "source": [
        "# 데이터셋에서 행 하나를 추출해 실젯값과 예측값을 비교.\n",
        "prediction = model(torch.FloatTensor(X[0, :13]))\n",
        "real = Y[0]\n",
        "print(f\"prediction:{prediction.item()} real:{real}\")"
      ],
      "metadata": {
        "colab": {
          "base_uri": "https://localhost:8080/"
        },
        "id": "Ld-C77xDJkKW",
        "outputId": "b7c677cc-8ca7-4a41-bf37-3c53cda15a11"
      },
      "execution_count": null,
      "outputs": [
        {
          "output_type": "stream",
          "name": "stdout",
          "text": [
            "prediction:25.561281204223633 real:24.0\n"
          ]
        }
      ]
    },
    {
      "cell_type": "code",
      "source": [],
      "metadata": {
        "id": "14kmJev_kXWq"
      },
      "execution_count": null,
      "outputs": []
    }
  ]
}